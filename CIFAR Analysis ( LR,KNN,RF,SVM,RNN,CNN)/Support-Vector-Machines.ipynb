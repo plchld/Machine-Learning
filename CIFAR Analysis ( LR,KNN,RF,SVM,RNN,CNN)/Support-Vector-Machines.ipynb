{
 "cells": [
  {
   "cell_type": "code",
   "execution_count": 1,
   "metadata": {
    "collapsed": true
   },
   "outputs": [],
   "source": [
    "import pandas as pd\n",
    "import numpy as np\n",
    "import seaborn as sns\n",
    "import matplotlib.pyplot as plt\n",
    "%matplotlib inline\n",
    "sns.set()"
   ]
  },
  {
   "cell_type": "code",
   "execution_count": 2,
   "metadata": {},
   "outputs": [
    {
     "name": "stdout",
     "output_type": "stream",
     "text": [
      "(5000, 4096)\n",
      "(5000,)\n"
     ]
    }
   ],
   "source": [
    "# Load data\n",
    "with np.load('cifar4-train.npz', allow_pickle=False) as data:\n",
    "    X = data['overfeat']\n",
    "    y = data['labels']\n",
    "    \n",
    "print(X.shape)\n",
    "print(y.shape)"
   ]
  },
  {
   "cell_type": "code",
   "execution_count": 3,
   "metadata": {
    "collapsed": true
   },
   "outputs": [],
   "source": [
    "# split data\n",
    "from sklearn.model_selection import train_test_split\n",
    "\n",
    "X_train, X_test, y_train, y_test = train_test_split(X, y, random_state=0, \n",
    "                                                    stratify=y, test_size=0.2)\n"
   ]
  },
  {
   "cell_type": "code",
   "execution_count": 4,
   "metadata": {
    "collapsed": true
   },
   "outputs": [],
   "source": [
    "# For both kernels (linear and RBF) we perform PCA for \n",
    "# 400 PC's (>95% explained variance) for computational efficiency.\n",
    "\n",
    "from sklearn.decomposition import PCA\n",
    "pca = PCA(n_components=400)\n",
    "\n",
    "# transform data sets:\n",
    "X_tr = pca.fit_transform(X_train)\n",
    "X_te = pca.transform(X_test)\n",
    "\n",
    "# Since SVM's measure distances/similarities, we should scale the data \n",
    "# before feeding them to the SVM classifier. After some inspection, we see\n",
    "# that all features are already more or less in the same scale."
   ]
  },
  {
   "cell_type": "markdown",
   "metadata": {},
   "source": [
    "# SVM - Linear Kernel"
   ]
  },
  {
   "cell_type": "code",
   "execution_count": 5,
   "metadata": {
    "collapsed": true
   },
   "outputs": [],
   "source": [
    "from sklearn.svm import LinearSVC, SVC\n",
    "from sklearn.model_selection import ParameterGrid, cross_validate\n",
    "\n",
    "linear_svc = LinearSVC() # for the linear kernel we use linearSVC because its faster"
   ]
  },
  {
   "cell_type": "code",
   "execution_count": 6,
   "metadata": {
    "collapsed": true
   },
   "outputs": [],
   "source": [
    "grid = ParameterGrid({\n",
    "    'C': [0.0001, 0.001, 0.01, 0.1, 1, 10, 100]\n",
    "})\n",
    "\n",
    "val_scores = []\n",
    "for params_dict in grid:\n",
    "    \n",
    "    linear_svc.set_params(**params_dict)\n",
    "    \n",
    "    # cross validate uses stratified Kfold by default\n",
    "    cv_results = cross_validate(linear_svc, X_tr, y_train, cv=5, n_jobs=-1,\n",
    "                                return_train_score=False)\n",
    "    \n",
    "    params_dict['mean val accuracy'] = cv_results['test_score'].mean()\n",
    "    params_dict['std of val accuracy'] = cv_results['test_score'].std()\n",
    "    val_scores.append(params_dict)"
   ]
  },
  {
   "cell_type": "code",
   "execution_count": 7,
   "metadata": {},
   "outputs": [
    {
     "data": {
      "text/html": [
       "<div>\n",
       "<style scoped>\n",
       "    .dataframe tbody tr th:only-of-type {\n",
       "        vertical-align: middle;\n",
       "    }\n",
       "\n",
       "    .dataframe tbody tr th {\n",
       "        vertical-align: top;\n",
       "    }\n",
       "\n",
       "    .dataframe thead th {\n",
       "        text-align: right;\n",
       "    }\n",
       "</style>\n",
       "<table border=\"1\" class=\"dataframe\">\n",
       "  <thead>\n",
       "    <tr style=\"text-align: right;\">\n",
       "      <th></th>\n",
       "      <th>C</th>\n",
       "      <th>mean val accuracy</th>\n",
       "      <th>std of val accuracy</th>\n",
       "    </tr>\n",
       "  </thead>\n",
       "  <tbody>\n",
       "    <tr>\n",
       "      <th>1</th>\n",
       "      <td>0.0010</td>\n",
       "      <td>0.84075</td>\n",
       "      <td>0.017776</td>\n",
       "    </tr>\n",
       "    <tr>\n",
       "      <th>0</th>\n",
       "      <td>0.0001</td>\n",
       "      <td>0.83725</td>\n",
       "      <td>0.015640</td>\n",
       "    </tr>\n",
       "    <tr>\n",
       "      <th>2</th>\n",
       "      <td>0.0100</td>\n",
       "      <td>0.82425</td>\n",
       "      <td>0.012212</td>\n",
       "    </tr>\n",
       "    <tr>\n",
       "      <th>3</th>\n",
       "      <td>0.1000</td>\n",
       "      <td>0.81125</td>\n",
       "      <td>0.011673</td>\n",
       "    </tr>\n",
       "    <tr>\n",
       "      <th>5</th>\n",
       "      <td>10.0000</td>\n",
       "      <td>0.79250</td>\n",
       "      <td>0.010488</td>\n",
       "    </tr>\n",
       "    <tr>\n",
       "      <th>4</th>\n",
       "      <td>1.0000</td>\n",
       "      <td>0.79050</td>\n",
       "      <td>0.009172</td>\n",
       "    </tr>\n",
       "    <tr>\n",
       "      <th>6</th>\n",
       "      <td>100.0000</td>\n",
       "      <td>0.78900</td>\n",
       "      <td>0.014040</td>\n",
       "    </tr>\n",
       "  </tbody>\n",
       "</table>\n",
       "</div>"
      ],
      "text/plain": [
       "          C  mean val accuracy  std of val accuracy\n",
       "1    0.0010            0.84075             0.017776\n",
       "0    0.0001            0.83725             0.015640\n",
       "2    0.0100            0.82425             0.012212\n",
       "3    0.1000            0.81125             0.011673\n",
       "5   10.0000            0.79250             0.010488\n",
       "4    1.0000            0.79050             0.009172\n",
       "6  100.0000            0.78900             0.014040"
      ]
     },
     "execution_count": 7,
     "metadata": {},
     "output_type": "execute_result"
    }
   ],
   "source": [
    "scores_lin = pd.DataFrame(val_scores)\n",
    "scores_lin = scores_lin.sort_values(by='mean val accuracy', ascending=False)\n",
    "scores_lin"
   ]
  },
  {
   "cell_type": "code",
   "execution_count": 8,
   "metadata": {
    "collapsed": true
   },
   "outputs": [],
   "source": [
    "# the best parameter C lies around 0.001. I do a refined search\n",
    "# to see if we get better results\n",
    "\n",
    "grid = ParameterGrid({\n",
    "    'C': np.arange(0.0007, 0.0013, 0.0001)\n",
    "})\n",
    "\n",
    "val_scores = []\n",
    "for params_dict in grid:\n",
    "    \n",
    "    linear_svc.set_params(**params_dict)\n",
    "    \n",
    "    # cross validate uses stratified Kfold by default\n",
    "    cv_results = cross_validate(linear_svc, X_tr, y_train, cv=5, n_jobs=-1,\n",
    "                                return_train_score=False)\n",
    "    \n",
    "    params_dict['mean val accuracy'] = cv_results['test_score'].mean()\n",
    "    params_dict['std of val accuracy'] = cv_results['test_score'].std()\n",
    "    val_scores.append(params_dict)"
   ]
  },
  {
   "cell_type": "code",
   "execution_count": 9,
   "metadata": {},
   "outputs": [
    {
     "data": {
      "text/html": [
       "<div>\n",
       "<style scoped>\n",
       "    .dataframe tbody tr th:only-of-type {\n",
       "        vertical-align: middle;\n",
       "    }\n",
       "\n",
       "    .dataframe tbody tr th {\n",
       "        vertical-align: top;\n",
       "    }\n",
       "\n",
       "    .dataframe thead th {\n",
       "        text-align: right;\n",
       "    }\n",
       "</style>\n",
       "<table border=\"1\" class=\"dataframe\">\n",
       "  <thead>\n",
       "    <tr style=\"text-align: right;\">\n",
       "      <th></th>\n",
       "      <th>C</th>\n",
       "      <th>mean val accuracy</th>\n",
       "      <th>std of val accuracy</th>\n",
       "    </tr>\n",
       "  </thead>\n",
       "  <tbody>\n",
       "    <tr>\n",
       "      <th>0</th>\n",
       "      <td>0.0007</td>\n",
       "      <td>0.84225</td>\n",
       "      <td>0.017219</td>\n",
       "    </tr>\n",
       "    <tr>\n",
       "      <th>1</th>\n",
       "      <td>0.0008</td>\n",
       "      <td>0.84200</td>\n",
       "      <td>0.018003</td>\n",
       "    </tr>\n",
       "    <tr>\n",
       "      <th>2</th>\n",
       "      <td>0.0009</td>\n",
       "      <td>0.84150</td>\n",
       "      <td>0.018327</td>\n",
       "    </tr>\n",
       "    <tr>\n",
       "      <th>3</th>\n",
       "      <td>0.0010</td>\n",
       "      <td>0.84075</td>\n",
       "      <td>0.017776</td>\n",
       "    </tr>\n",
       "    <tr>\n",
       "      <th>4</th>\n",
       "      <td>0.0011</td>\n",
       "      <td>0.84025</td>\n",
       "      <td>0.017878</td>\n",
       "    </tr>\n",
       "    <tr>\n",
       "      <th>5</th>\n",
       "      <td>0.0012</td>\n",
       "      <td>0.83900</td>\n",
       "      <td>0.016945</td>\n",
       "    </tr>\n",
       "  </tbody>\n",
       "</table>\n",
       "</div>"
      ],
      "text/plain": [
       "        C  mean val accuracy  std of val accuracy\n",
       "0  0.0007            0.84225             0.017219\n",
       "1  0.0008            0.84200             0.018003\n",
       "2  0.0009            0.84150             0.018327\n",
       "3  0.0010            0.84075             0.017776\n",
       "4  0.0011            0.84025             0.017878\n",
       "5  0.0012            0.83900             0.016945"
      ]
     },
     "execution_count": 9,
     "metadata": {},
     "output_type": "execute_result"
    }
   ],
   "source": [
    "scores_lin = pd.DataFrame(val_scores)\n",
    "scores_lin = scores_lin.sort_values(by='mean val accuracy', ascending=False)\n",
    "scores_lin\n",
    "\n",
    "# Indeed, I got slightly better validation scores."
   ]
  },
  {
   "cell_type": "markdown",
   "metadata": {},
   "source": [
    "# RBF Kernel"
   ]
  },
  {
   "cell_type": "code",
   "execution_count": 10,
   "metadata": {
    "collapsed": true
   },
   "outputs": [],
   "source": [
    "rbf_svc = SVC(kernel='rbf')\n",
    "\n",
    "grid = ParameterGrid({\n",
    "    'C': [0.01, 0.03, 0.1, 0.3, 1],\n",
    "    'gamma': [0.01, 0.03, 0.1, 0.3, 1]\n",
    "})\n",
    "\n",
    "val_scores = []\n",
    "for params_dict in grid:\n",
    "    \n",
    "    rbf_svc.set_params(**params_dict)\n",
    "    \n",
    "    # cross validate uses stratified Kfold by default\n",
    "    cv_results = cross_validate(rbf_svc, X_tr, y_train, cv=5, n_jobs=-1,\n",
    "                                return_train_score=False)\n",
    "    \n",
    "    params_dict['mean val accuracy'] = cv_results['test_score'].mean()\n",
    "    params_dict['std of val accuracy'] = cv_results['test_score'].std()\n",
    "    val_scores.append(params_dict)"
   ]
  },
  {
   "cell_type": "code",
   "execution_count": 11,
   "metadata": {},
   "outputs": [
    {
     "data": {
      "text/html": [
       "<div>\n",
       "<style scoped>\n",
       "    .dataframe tbody tr th:only-of-type {\n",
       "        vertical-align: middle;\n",
       "    }\n",
       "\n",
       "    .dataframe tbody tr th {\n",
       "        vertical-align: top;\n",
       "    }\n",
       "\n",
       "    .dataframe thead th {\n",
       "        text-align: right;\n",
       "    }\n",
       "</style>\n",
       "<table border=\"1\" class=\"dataframe\">\n",
       "  <thead>\n",
       "    <tr style=\"text-align: right;\">\n",
       "      <th></th>\n",
       "      <th>C</th>\n",
       "      <th>gamma</th>\n",
       "      <th>mean val accuracy</th>\n",
       "      <th>std of val accuracy</th>\n",
       "    </tr>\n",
       "  </thead>\n",
       "  <tbody>\n",
       "    <tr>\n",
       "      <th>12</th>\n",
       "      <td>0.10</td>\n",
       "      <td>0.10</td>\n",
       "      <td>0.69150</td>\n",
       "      <td>0.011303</td>\n",
       "    </tr>\n",
       "    <tr>\n",
       "      <th>2</th>\n",
       "      <td>0.01</td>\n",
       "      <td>0.10</td>\n",
       "      <td>0.69150</td>\n",
       "      <td>0.011303</td>\n",
       "    </tr>\n",
       "    <tr>\n",
       "      <th>7</th>\n",
       "      <td>0.03</td>\n",
       "      <td>0.10</td>\n",
       "      <td>0.69150</td>\n",
       "      <td>0.011303</td>\n",
       "    </tr>\n",
       "    <tr>\n",
       "      <th>17</th>\n",
       "      <td>0.30</td>\n",
       "      <td>0.10</td>\n",
       "      <td>0.69150</td>\n",
       "      <td>0.011303</td>\n",
       "    </tr>\n",
       "    <tr>\n",
       "      <th>23</th>\n",
       "      <td>1.00</td>\n",
       "      <td>0.30</td>\n",
       "      <td>0.52900</td>\n",
       "      <td>0.013167</td>\n",
       "    </tr>\n",
       "    <tr>\n",
       "      <th>18</th>\n",
       "      <td>0.30</td>\n",
       "      <td>0.30</td>\n",
       "      <td>0.52900</td>\n",
       "      <td>0.013167</td>\n",
       "    </tr>\n",
       "    <tr>\n",
       "      <th>13</th>\n",
       "      <td>0.10</td>\n",
       "      <td>0.30</td>\n",
       "      <td>0.52850</td>\n",
       "      <td>0.013072</td>\n",
       "    </tr>\n",
       "    <tr>\n",
       "      <th>8</th>\n",
       "      <td>0.03</td>\n",
       "      <td>0.30</td>\n",
       "      <td>0.52800</td>\n",
       "      <td>0.012762</td>\n",
       "    </tr>\n",
       "    <tr>\n",
       "      <th>3</th>\n",
       "      <td>0.01</td>\n",
       "      <td>0.30</td>\n",
       "      <td>0.52775</td>\n",
       "      <td>0.012684</td>\n",
       "    </tr>\n",
       "    <tr>\n",
       "      <th>20</th>\n",
       "      <td>1.00</td>\n",
       "      <td>0.01</td>\n",
       "      <td>0.28400</td>\n",
       "      <td>0.012684</td>\n",
       "    </tr>\n",
       "  </tbody>\n",
       "</table>\n",
       "</div>"
      ],
      "text/plain": [
       "       C  gamma  mean val accuracy  std of val accuracy\n",
       "12  0.10   0.10            0.69150             0.011303\n",
       "2   0.01   0.10            0.69150             0.011303\n",
       "7   0.03   0.10            0.69150             0.011303\n",
       "17  0.30   0.10            0.69150             0.011303\n",
       "23  1.00   0.30            0.52900             0.013167\n",
       "18  0.30   0.30            0.52900             0.013167\n",
       "13  0.10   0.30            0.52850             0.013072\n",
       "8   0.03   0.30            0.52800             0.012762\n",
       "3   0.01   0.30            0.52775             0.012684\n",
       "20  1.00   0.01            0.28400             0.012684"
      ]
     },
     "execution_count": 11,
     "metadata": {},
     "output_type": "execute_result"
    }
   ],
   "source": [
    "scores_rbf = pd.DataFrame(val_scores)\n",
    "scores_rbf = scores_rbf.sort_values(by='mean val accuracy', ascending=False)\n",
    "scores_rbf.head(10)"
   ]
  },
  {
   "cell_type": "markdown",
   "metadata": {},
   "source": [
    "## validation scores for both models"
   ]
  },
  {
   "cell_type": "code",
   "execution_count": 12,
   "metadata": {},
   "outputs": [
    {
     "name": "stdout",
     "output_type": "stream",
     "text": [
      "Linear SVM - top ccuracy across folds: 0.8422 (std: 0.0172) with C=0.0007\n",
      "RBF SVM - top ccuracy across folds: 0.6915 (std: 0.0113) with C=0.1 and gamma=0.1.\n"
     ]
    }
   ],
   "source": [
    "print('Linear SVM - top ccuracy across folds: {:.4f} (std: {:.4f}) '\n",
    "     'with C={}'.format(scores_lin.iloc[0,1], scores_lin.iloc[0,2], scores_lin.iloc[0,0]))\n",
    "\n",
    "print('RBF SVM - top ccuracy across folds: {:.4f} (std: {:.4f}) '\n",
    "     'with C={} and gamma={}.'.format(scores_rbf.iloc[0,2], scores_rbf.iloc[0,3], \n",
    "                                     scores_rbf.iloc[0,0], scores_rbf.iloc[0,1]))"
   ]
  },
  {
   "cell_type": "markdown",
   "metadata": {},
   "source": [
    "## Test scores"
   ]
  },
  {
   "cell_type": "code",
   "execution_count": 13,
   "metadata": {},
   "outputs": [
    {
     "name": "stdout",
     "output_type": "stream",
     "text": [
      "Linear SVM accuracy (test set): 0.8280\n",
      "RBF SVM accuracy (test set): 0.7020\n"
     ]
    }
   ],
   "source": [
    "linear_svc = LinearSVC(C=0.0008)\n",
    "linear_svc.fit(X_tr, y_train)\n",
    "lin_score = linear_svc.score(X_te, y_test)\n",
    "\n",
    "rbf_svc = SVC(kernel='rbf', C=0.1, gamma=0.1)\n",
    "rbf_svc.fit(X_tr, y_train)\n",
    "rbf_score = rbf_svc.score(X_te, y_test)\n",
    "\n",
    "print('Linear SVM accuracy (test set): {:.4f}'.format(lin_score))\n",
    "print('RBF SVM accuracy (test set): {:.4f}'.format(rbf_score))"
   ]
  },
  {
   "cell_type": "code",
   "execution_count": null,
   "metadata": {
    "collapsed": true
   },
   "outputs": [],
   "source": []
  },
  {
   "cell_type": "code",
   "execution_count": null,
   "metadata": {
    "collapsed": true
   },
   "outputs": [],
   "source": []
  },
  {
   "cell_type": "code",
   "execution_count": null,
   "metadata": {
    "collapsed": true
   },
   "outputs": [],
   "source": []
  }
 ],
 "metadata": {
  "kernelspec": {
   "display_name": "Python [default]",
   "language": "python",
   "name": "python3"
  },
  "language_info": {
   "codemirror_mode": {
    "name": "ipython",
    "version": 3
   },
   "file_extension": ".py",
   "mimetype": "text/x-python",
   "name": "python",
   "nbconvert_exporter": "python",
   "pygments_lexer": "ipython3",
   "version": "3.6.3"
  }
 },
 "nbformat": 4,
 "nbformat_minor": 2
}
