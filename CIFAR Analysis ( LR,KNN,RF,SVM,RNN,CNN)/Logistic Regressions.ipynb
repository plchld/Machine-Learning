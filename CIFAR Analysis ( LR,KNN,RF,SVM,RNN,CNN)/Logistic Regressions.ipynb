{
 "cells": [
  {
   "cell_type": "code",
   "execution_count": 1,
   "metadata": {
    "collapsed": true
   },
   "outputs": [],
   "source": [
    "import pandas as pd\n",
    "import numpy as np\n",
    "import seaborn as sns\n",
    "import matplotlib.pyplot as plt\n",
    "%matplotlib inline\n",
    "sns.set()"
   ]
  },
  {
   "cell_type": "code",
   "execution_count": 3,
   "metadata": {
    "collapsed": true
   },
   "outputs": [],
   "source": [
    "# Load data\n",
    "with np.load('cifar4-train.npz', allow_pickle=False) as data:\n",
    "    cifar = dict(data.items())\n"
   ]
  },
  {
   "cell_type": "code",
   "execution_count": 5,
   "metadata": {
    "collapsed": true
   },
   "outputs": [],
   "source": [
    "# I split the data that I am going to use into train/test\n",
    "from sklearn.model_selection import train_test_split\n",
    "\n",
    "x_train, x_test, y_train, y_test = train_test_split(\n",
    "    cifar['overfeat'], cifar['labels'], \n",
    "    stratify = cifar['labels'], test_size = 1000, random_state = 0)\n",
    "\n",
    "# I do the same for the pixels to be able to query them later\n",
    "x_train_px, x_test_px, y_train, y_test = train_test_split(\n",
    "    cifar['pixels'], cifar['labels'], \n",
    "    stratify = cifar['labels'], test_size = 1000,random_state = 0)"
   ]
  },
  {
   "cell_type": "code",
   "execution_count": 6,
   "metadata": {
    "collapsed": true
   },
   "outputs": [],
   "source": [
    "from sklearn.linear_model import SGDClassifier\n",
    "from sklearn.model_selection import ParameterGrid, cross_validate\n",
    "from sklearn.pipeline import Pipeline\n",
    "from sklearn.decomposition import PCA\n",
    "Logreg  =  SGDClassifier(\n",
    "    # Set logistic loss\n",
    "    loss='log',\n",
    "    # Set max number of iterations and stopping criteria\n",
    "    max_iter=1000, tol=1e-3, n_jobs = -1 # to use all cores\n",
    ")\n",
    "\n",
    "pca = PCA()"
   ]
  },
  {
   "cell_type": "code",
   "execution_count": 7,
   "metadata": {
    "collapsed": true
   },
   "outputs": [],
   "source": [
    "# one grid with a PCA step where i tune the alpha and the pca\n",
    "grid =ParameterGrid({\n",
    "    'logreg__alpha':[0.00001,0.0001,0.0005,0.001],\n",
    "    'pca__n_components':np.arange(350,450,20)\n",
    "    \n",
    "})\n",
    "\n",
    "#a second grid where i only tune the alpha as I wont use pca\n",
    "grid1=ParameterGrid(\n",
    "{\n",
    "    'pca':[None],\n",
    "    'logreg__alpha':[0.00001,0.0001,0.0005,0.001],\n",
    "\n",
    "})\n",
    "\n",
    "# Making lists to append the scores\n",
    "val_scores_pca = []\n",
    "val_scores = []\n",
    "\n",
    "# The pipeline with the PCA as a step\n",
    "pipe = Pipeline([\n",
    "    ('pca',pca),\n",
    "    ('logreg',Logreg)    \n",
    "])\n"
   ]
  },
  {
   "cell_type": "code",
   "execution_count": 9,
   "metadata": {
    "collapsed": true
   },
   "outputs": [],
   "source": [
    "# Doing the grid search using the PCA pipe\n",
    "\n",
    "for params_dict_pca in grid:\n",
    "    pipe.set_params(**params_dict_pca)\n",
    "    # 5-fold Cross-validation with n_jobs = -1 to use all the processors\n",
    "    cv_results = cross_validate(pipe, x_train, y_train, cv=5, n_jobs=-1,\n",
    "                                return_train_score=False)\n",
    "    # Appending the criss-validation results in the previous dict to centralize\n",
    "    params_dict_pca['mean val accuracy'] = cv_results['test_score'].mean()\n",
    "    params_dict_pca['std of val accuracy'] = cv_results['test_score'].std()\n",
    "    val_scores_pca.append(params_dict_pca)\n",
    "    \n",
    "# Doing the same for the grid without the PCA\n",
    "for params_dict in grid1:\n",
    "    pipe.set_params(**params_dict)\n",
    "    \n",
    "   \n",
    "    cv_results = cross_validate(pipe, x_train, y_train, cv=5, n_jobs=-1,\n",
    "                                return_train_score=False)\n",
    "\n",
    "    params_dict['mean val accuracy'] = cv_results['test_score'].mean()\n",
    "    params_dict['std of val accuracy'] = cv_results['test_score'].std()\n",
    "    val_scores.append(params_dict)"
   ]
  },
  {
   "cell_type": "code",
   "execution_count": 10,
   "metadata": {
    "scrolled": true
   },
   "outputs": [
    {
     "data": {
      "text/html": [
       "<div>\n",
       "<style scoped>\n",
       "    .dataframe tbody tr th:only-of-type {\n",
       "        vertical-align: middle;\n",
       "    }\n",
       "\n",
       "    .dataframe tbody tr th {\n",
       "        vertical-align: top;\n",
       "    }\n",
       "\n",
       "    .dataframe thead th {\n",
       "        text-align: right;\n",
       "    }\n",
       "</style>\n",
       "<table border=\"1\" class=\"dataframe\">\n",
       "  <thead>\n",
       "    <tr style=\"text-align: right;\">\n",
       "      <th></th>\n",
       "      <th>logreg__alpha</th>\n",
       "      <th>mean val accuracy</th>\n",
       "      <th>pca</th>\n",
       "      <th>std of val accuracy</th>\n",
       "    </tr>\n",
       "  </thead>\n",
       "  <tbody>\n",
       "    <tr>\n",
       "      <th>0</th>\n",
       "      <td>0.00001</td>\n",
       "      <td>0.80700</td>\n",
       "      <td>None</td>\n",
       "      <td>0.022536</td>\n",
       "    </tr>\n",
       "    <tr>\n",
       "      <th>1</th>\n",
       "      <td>0.00010</td>\n",
       "      <td>0.80500</td>\n",
       "      <td>None</td>\n",
       "      <td>0.017518</td>\n",
       "    </tr>\n",
       "    <tr>\n",
       "      <th>2</th>\n",
       "      <td>0.00100</td>\n",
       "      <td>0.79550</td>\n",
       "      <td>None</td>\n",
       "      <td>0.013933</td>\n",
       "    </tr>\n",
       "    <tr>\n",
       "      <th>3</th>\n",
       "      <td>0.00050</td>\n",
       "      <td>0.79325</td>\n",
       "      <td>None</td>\n",
       "      <td>0.022425</td>\n",
       "    </tr>\n",
       "  </tbody>\n",
       "</table>\n",
       "</div>"
      ],
      "text/plain": [
       "   logreg__alpha  mean val accuracy   pca  std of val accuracy\n",
       "0        0.00001            0.80700  None             0.022536\n",
       "1        0.00010            0.80500  None             0.017518\n",
       "2        0.00100            0.79550  None             0.013933\n",
       "3        0.00050            0.79325  None             0.022425"
      ]
     },
     "execution_count": 10,
     "metadata": {},
     "output_type": "execute_result"
    }
   ],
   "source": [
    "# A DF with the hyperparameters and the results\n",
    "scores_df = pd.DataFrame(val_scores)\n",
    "scores_df = scores_df.sort_values(by='mean val accuracy',ascending = False)\n",
    "scores_df = scores_df.reset_index(drop = True)\n",
    "scores_df"
   ]
  },
  {
   "cell_type": "code",
   "execution_count": 11,
   "metadata": {
    "scrolled": true
   },
   "outputs": [
    {
     "data": {
      "text/html": [
       "<div>\n",
       "<style scoped>\n",
       "    .dataframe tbody tr th:only-of-type {\n",
       "        vertical-align: middle;\n",
       "    }\n",
       "\n",
       "    .dataframe tbody tr th {\n",
       "        vertical-align: top;\n",
       "    }\n",
       "\n",
       "    .dataframe thead th {\n",
       "        text-align: right;\n",
       "    }\n",
       "</style>\n",
       "<table border=\"1\" class=\"dataframe\">\n",
       "  <thead>\n",
       "    <tr style=\"text-align: right;\">\n",
       "      <th></th>\n",
       "      <th>logreg__alpha</th>\n",
       "      <th>mean val accuracy</th>\n",
       "      <th>pca__n_components</th>\n",
       "      <th>std of val accuracy</th>\n",
       "    </tr>\n",
       "  </thead>\n",
       "  <tbody>\n",
       "    <tr>\n",
       "      <th>0</th>\n",
       "      <td>0.00010</td>\n",
       "      <td>0.83700</td>\n",
       "      <td>430</td>\n",
       "      <td>0.012109</td>\n",
       "    </tr>\n",
       "    <tr>\n",
       "      <th>1</th>\n",
       "      <td>0.00100</td>\n",
       "      <td>0.83500</td>\n",
       "      <td>370</td>\n",
       "      <td>0.009779</td>\n",
       "    </tr>\n",
       "    <tr>\n",
       "      <th>2</th>\n",
       "      <td>0.00100</td>\n",
       "      <td>0.83475</td>\n",
       "      <td>410</td>\n",
       "      <td>0.008344</td>\n",
       "    </tr>\n",
       "    <tr>\n",
       "      <th>3</th>\n",
       "      <td>0.00010</td>\n",
       "      <td>0.83450</td>\n",
       "      <td>410</td>\n",
       "      <td>0.015744</td>\n",
       "    </tr>\n",
       "    <tr>\n",
       "      <th>4</th>\n",
       "      <td>0.00050</td>\n",
       "      <td>0.83450</td>\n",
       "      <td>350</td>\n",
       "      <td>0.015383</td>\n",
       "    </tr>\n",
       "    <tr>\n",
       "      <th>5</th>\n",
       "      <td>0.00100</td>\n",
       "      <td>0.83325</td>\n",
       "      <td>430</td>\n",
       "      <td>0.015342</td>\n",
       "    </tr>\n",
       "    <tr>\n",
       "      <th>6</th>\n",
       "      <td>0.00050</td>\n",
       "      <td>0.83250</td>\n",
       "      <td>370</td>\n",
       "      <td>0.013874</td>\n",
       "    </tr>\n",
       "    <tr>\n",
       "      <th>7</th>\n",
       "      <td>0.00010</td>\n",
       "      <td>0.83225</td>\n",
       "      <td>350</td>\n",
       "      <td>0.013951</td>\n",
       "    </tr>\n",
       "    <tr>\n",
       "      <th>8</th>\n",
       "      <td>0.00050</td>\n",
       "      <td>0.83225</td>\n",
       "      <td>410</td>\n",
       "      <td>0.014967</td>\n",
       "    </tr>\n",
       "    <tr>\n",
       "      <th>9</th>\n",
       "      <td>0.00050</td>\n",
       "      <td>0.83150</td>\n",
       "      <td>390</td>\n",
       "      <td>0.010106</td>\n",
       "    </tr>\n",
       "    <tr>\n",
       "      <th>10</th>\n",
       "      <td>0.00010</td>\n",
       "      <td>0.83150</td>\n",
       "      <td>370</td>\n",
       "      <td>0.008853</td>\n",
       "    </tr>\n",
       "    <tr>\n",
       "      <th>11</th>\n",
       "      <td>0.00050</td>\n",
       "      <td>0.83150</td>\n",
       "      <td>430</td>\n",
       "      <td>0.017667</td>\n",
       "    </tr>\n",
       "    <tr>\n",
       "      <th>12</th>\n",
       "      <td>0.00100</td>\n",
       "      <td>0.83050</td>\n",
       "      <td>390</td>\n",
       "      <td>0.012908</td>\n",
       "    </tr>\n",
       "    <tr>\n",
       "      <th>13</th>\n",
       "      <td>0.00010</td>\n",
       "      <td>0.83000</td>\n",
       "      <td>390</td>\n",
       "      <td>0.012845</td>\n",
       "    </tr>\n",
       "    <tr>\n",
       "      <th>14</th>\n",
       "      <td>0.00001</td>\n",
       "      <td>0.82975</td>\n",
       "      <td>430</td>\n",
       "      <td>0.009367</td>\n",
       "    </tr>\n",
       "    <tr>\n",
       "      <th>15</th>\n",
       "      <td>0.00100</td>\n",
       "      <td>0.82700</td>\n",
       "      <td>350</td>\n",
       "      <td>0.012237</td>\n",
       "    </tr>\n",
       "    <tr>\n",
       "      <th>16</th>\n",
       "      <td>0.00001</td>\n",
       "      <td>0.82600</td>\n",
       "      <td>410</td>\n",
       "      <td>0.017861</td>\n",
       "    </tr>\n",
       "    <tr>\n",
       "      <th>17</th>\n",
       "      <td>0.00001</td>\n",
       "      <td>0.82200</td>\n",
       "      <td>370</td>\n",
       "      <td>0.014243</td>\n",
       "    </tr>\n",
       "    <tr>\n",
       "      <th>18</th>\n",
       "      <td>0.00001</td>\n",
       "      <td>0.82100</td>\n",
       "      <td>350</td>\n",
       "      <td>0.009097</td>\n",
       "    </tr>\n",
       "    <tr>\n",
       "      <th>19</th>\n",
       "      <td>0.00001</td>\n",
       "      <td>0.82075</td>\n",
       "      <td>390</td>\n",
       "      <td>0.014022</td>\n",
       "    </tr>\n",
       "  </tbody>\n",
       "</table>\n",
       "</div>"
      ],
      "text/plain": [
       "    logreg__alpha  mean val accuracy  pca__n_components  std of val accuracy\n",
       "0         0.00010            0.83700                430             0.012109\n",
       "1         0.00100            0.83500                370             0.009779\n",
       "2         0.00100            0.83475                410             0.008344\n",
       "3         0.00010            0.83450                410             0.015744\n",
       "4         0.00050            0.83450                350             0.015383\n",
       "5         0.00100            0.83325                430             0.015342\n",
       "6         0.00050            0.83250                370             0.013874\n",
       "7         0.00010            0.83225                350             0.013951\n",
       "8         0.00050            0.83225                410             0.014967\n",
       "9         0.00050            0.83150                390             0.010106\n",
       "10        0.00010            0.83150                370             0.008853\n",
       "11        0.00050            0.83150                430             0.017667\n",
       "12        0.00100            0.83050                390             0.012908\n",
       "13        0.00010            0.83000                390             0.012845\n",
       "14        0.00001            0.82975                430             0.009367\n",
       "15        0.00100            0.82700                350             0.012237\n",
       "16        0.00001            0.82600                410             0.017861\n",
       "17        0.00001            0.82200                370             0.014243\n",
       "18        0.00001            0.82100                350             0.009097\n",
       "19        0.00001            0.82075                390             0.014022"
      ]
     },
     "execution_count": 11,
     "metadata": {},
     "output_type": "execute_result"
    }
   ],
   "source": [
    "# With the PCA\n",
    "scores_df_pca = pd.DataFrame(val_scores_pca)\n",
    "scores_df_pca = scores_df_pca.sort_values(by='mean val accuracy',ascending = False)\n",
    "scores_df_pca = scores_df_pca.reset_index(drop = True)\n",
    "scores_df_pca"
   ]
  },
  {
   "cell_type": "code",
   "execution_count": 12,
   "metadata": {
    "collapsed": true
   },
   "outputs": [],
   "source": [
    "# finding the best score from both DFs  and putting it in a dict\n",
    "if scores_df['mean val accuracy'][0] > scores_df_pca['mean val accuracy'][0]:\n",
    "    best_dict = {'pca':[None],\n",
    "                 'alpha':scores_df['logreg__alpha'][0],\n",
    "                 'accuracy':scores_df['mean val accuracy'][0],\n",
    "                 'std':scores_df['std of val accuracy'][0]\n",
    "                }\n",
    "else:\n",
    "    best_dict = {'pca':scores_df_pca['pca__n_components'][0],\n",
    "                 'alpha':scores_df_pca['logreg__alpha'][0],\n",
    "                 'accuracy':scores_df_pca['mean val accuracy'][0],\n",
    "                 'std':scores_df_pca['std of val accuracy'][0]\n",
    "                }"
   ]
  },
  {
   "cell_type": "code",
   "execution_count": 18,
   "metadata": {},
   "outputs": [
    {
     "data": {
      "text/plain": [
       "Pipeline(memory=None,\n",
       "     steps=[('pca', PCA(copy=True, iterated_power='auto', n_components=430, random_state=None,\n",
       "  svd_solver='auto', tol=0.0, whiten=False)), ('logreg', SGDClassifier(alpha=0.0001, average=False, class_weight=None, epsilon=0.1,\n",
       "       eta0=0.0, fit_intercept=True, l1_ratio=0.15,\n",
       "       learning_rate='optimal', loss='log', max_iter=1000, n_iter=None,\n",
       "       n_jobs=-1, penalty='l2', power_t=0.5, random_state=None,\n",
       "       shuffle=True, tol=0.001, verbose=0, warm_start=False))])"
      ]
     },
     "execution_count": 18,
     "metadata": {},
     "output_type": "execute_result"
    }
   ],
   "source": [
    "# fitting the best parameters\n",
    "Logreg  =  SGDClassifier(\n",
    "    # Set logistic loss\n",
    "    loss='log',\n",
    "    max_iter=1000, tol=1e-3, n_jobs = -1, alpha = best_dict['alpha']\n",
    "    \n",
    ")\n",
    "\n",
    "pca = PCA(n_components=best_dict['pca'])\n",
    "\n",
    "pipe_best = Pipeline([\n",
    "    ('pca',pca),\n",
    "    ('logreg',Logreg)    \n",
    "])\n",
    "\n",
    "pipe_best.fit(x_test,y_test)"
   ]
  },
  {
   "cell_type": "code",
   "execution_count": 13,
   "metadata": {},
   "outputs": [
    {
     "name": "stdout",
     "output_type": "stream",
     "text": [
      "Logistic Regression - top ccuracy across folds: 0.8370 (std: 0.0121) with 430 components and alpha 0.0001\n"
     ]
    }
   ],
   "source": [
    "#printing the best results\n",
    "print('Logistic Regression - top ccuracy across folds:',\n",
    "      '{:.4f} (std: {:.4f}) with {} components and alpha {}'.format(\n",
    "          best_dict['accuracy'],\n",
    "          best_dict['std'],\n",
    "          best_dict['pca'],\n",
    "          best_dict['alpha']\n",
    "          ))"
   ]
  },
  {
   "cell_type": "code",
   "execution_count": 14,
   "metadata": {
    "scrolled": false
   },
   "outputs": [
    {
     "data": {
      "image/png": "[encoded data removed]",
      "text/plain": [
       "<Figure size 720x360 with 10 Axes>"
      ]
     },
     "metadata": {},
     "output_type": "display_data"
    }
   ],
   "source": [
    "# plotting the first 10 imgs of the test set\n",
    "# using the seperated pixels set\n",
    "figs,axes = plt.subplots(nrows = 2, ncols =5 , figsize=(10,5)) \n",
    "\n",
    "for i, axis in enumerate(axes.flatten()):\n",
    "    img_r = x_test_px[i].reshape(32,32,3)\n",
    "    axis.imshow(img_r)\n",
    "    axis.set_title('Image {}'.format(i+1))\n",
    "    axis.grid(False)\n",
    "\n",
    "plt.show()  "
   ]
  },
  {
   "cell_type": "code",
   "execution_count": 29,
   "metadata": {},
   "outputs": [
    {
     "name": "stderr",
     "output_type": "stream",
     "text": [
      "C:\\Users\\User\\Anaconda3\\lib\\site-packages\\sklearn\\linear_model\\base.py:340: RuntimeWarning: overflow encountered in exp\n",
      "  np.exp(prob, prob)\n"
     ]
    },
    {
     "data": {
      "text/html": [
       "<div>\n",
       "<style scoped>\n",
       "    .dataframe tbody tr th:only-of-type {\n",
       "        vertical-align: middle;\n",
       "    }\n",
       "\n",
       "    .dataframe tbody tr th {\n",
       "        vertical-align: top;\n",
       "    }\n",
       "\n",
       "    .dataframe thead th {\n",
       "        text-align: right;\n",
       "    }\n",
       "</style>\n",
       "<table border=\"1\" class=\"dataframe\">\n",
       "  <thead>\n",
       "    <tr style=\"text-align: right;\">\n",
       "      <th></th>\n",
       "      <th>truck</th>\n",
       "      <th>car</th>\n",
       "      <th>airplane</th>\n",
       "      <th>ship</th>\n",
       "    </tr>\n",
       "  </thead>\n",
       "  <tbody>\n",
       "    <tr>\n",
       "      <th>0</th>\n",
       "      <td>0.00</td>\n",
       "      <td>0.00</td>\n",
       "      <td>0.49</td>\n",
       "      <td>0.51</td>\n",
       "    </tr>\n",
       "    <tr>\n",
       "      <th>1</th>\n",
       "      <td>0.00</td>\n",
       "      <td>0.00</td>\n",
       "      <td>0.50</td>\n",
       "      <td>0.50</td>\n",
       "    </tr>\n",
       "    <tr>\n",
       "      <th>2</th>\n",
       "      <td>0.00</td>\n",
       "      <td>0.50</td>\n",
       "      <td>0.50</td>\n",
       "      <td>0.00</td>\n",
       "    </tr>\n",
       "    <tr>\n",
       "      <th>3</th>\n",
       "      <td>1.00</td>\n",
       "      <td>0.00</td>\n",
       "      <td>0.00</td>\n",
       "      <td>0.00</td>\n",
       "    </tr>\n",
       "    <tr>\n",
       "      <th>4</th>\n",
       "      <td>0.00</td>\n",
       "      <td>0.00</td>\n",
       "      <td>0.50</td>\n",
       "      <td>0.50</td>\n",
       "    </tr>\n",
       "    <tr>\n",
       "      <th>5</th>\n",
       "      <td>1.00</td>\n",
       "      <td>0.00</td>\n",
       "      <td>0.00</td>\n",
       "      <td>0.00</td>\n",
       "    </tr>\n",
       "    <tr>\n",
       "      <th>6</th>\n",
       "      <td>0.00</td>\n",
       "      <td>0.00</td>\n",
       "      <td>1.00</td>\n",
       "      <td>0.00</td>\n",
       "    </tr>\n",
       "    <tr>\n",
       "      <th>7</th>\n",
       "      <td>0.50</td>\n",
       "      <td>0.50</td>\n",
       "      <td>0.00</td>\n",
       "      <td>0.00</td>\n",
       "    </tr>\n",
       "    <tr>\n",
       "      <th>8</th>\n",
       "      <td>0.00</td>\n",
       "      <td>0.00</td>\n",
       "      <td>1.00</td>\n",
       "      <td>0.00</td>\n",
       "    </tr>\n",
       "    <tr>\n",
       "      <th>9</th>\n",
       "      <td>0.00</td>\n",
       "      <td>1.00</td>\n",
       "      <td>0.00</td>\n",
       "      <td>0.00</td>\n",
       "    </tr>\n",
       "  </tbody>\n",
       "</table>\n",
       "</div>"
      ],
      "text/plain": [
       "   truck  car  airplane  ship\n",
       "0   0.00 0.00      0.49  0.51\n",
       "1   0.00 0.00      0.50  0.50\n",
       "2   0.00 0.50      0.50  0.00\n",
       "3   1.00 0.00      0.00  0.00\n",
       "4   0.00 0.00      0.50  0.50\n",
       "5   1.00 0.00      0.00  0.00\n",
       "6   0.00 0.00      1.00  0.00\n",
       "7   0.50 0.50      0.00  0.00\n",
       "8   0.00 0.00      1.00  0.00\n",
       "9   0.00 1.00      0.00  0.00"
      ]
     },
     "execution_count": 29,
     "metadata": {},
     "output_type": "execute_result"
    }
   ],
   "source": [
    "# calculating the probabilities for each class on these 10 images in a DF\n",
    "pd.options.display.float_format = '{:,.2f}'.format\n",
    "probs = pd.DataFrame(columns = cifar['names'],\n",
    "                     data = pipe_best.predict_proba(x_test[0:10]))\n",
    "probs"
   ]
  },
  {
   "cell_type": "code",
   "execution_count": null,
   "metadata": {
    "collapsed": true
   },
   "outputs": [],
   "source": []
  },
  {
   "cell_type": "code",
   "execution_count": null,
   "metadata": {
    "collapsed": true
   },
   "outputs": [],
   "source": []
  }
 ],
 "metadata": {
  "kernelspec": {
   "display_name": "Python [default]",
   "language": "python",
   "name": "python3"
  },
  "language_info": {
   "codemirror_mode": {
    "name": "ipython",
    "version": 3
   },
   "file_extension": ".py",
   "mimetype": "text/x-python",
   "name": "python",
   "nbconvert_exporter": "python",
   "pygments_lexer": "ipython3",
   "version": "3.6.3"
  }
 },
 "nbformat": 4,
 "nbformat_minor": 2
}
