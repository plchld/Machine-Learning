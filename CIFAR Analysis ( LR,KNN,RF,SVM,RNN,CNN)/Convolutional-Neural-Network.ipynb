{
 "cells": [
  {
   "cell_type": "code",
   "execution_count": 1,
   "metadata": {},
   "outputs": [
    {
     "name": "stderr",
     "output_type": "stream",
     "text": [
      "C:\\Users\\User\\Anaconda3\\lib\\site-packages\\h5py\\__init__.py:34: FutureWarning: Conversion of the second argument of issubdtype from `float` to `np.floating` is deprecated. In future, it will be treated as `np.float64 == np.dtype(float).type`.\n",
      "  from ._conv import register_converters as _register_converters\n"
     ]
    }
   ],
   "source": [
    "import pandas as pd\n",
    "import numpy as np\n",
    "import matplotlib.pyplot as plt\n",
    "import seaborn as sns\n",
    "import tensorflow as tf\n",
    "sns.set()"
   ]
  },
  {
   "cell_type": "code",
   "execution_count": 2,
   "metadata": {},
   "outputs": [
    {
     "name": "stdout",
     "output_type": "stream",
     "text": [
      "(5000, 3072)\n",
      "(5000,)\n"
     ]
    }
   ],
   "source": [
    "# Load data (pixels)\n",
    "with np.load('cifar4-train.npz', allow_pickle=False) as data:\n",
    "    cifar4 = dict(data.items())\n",
    "\n",
    "X = cifar4['pixels'].astype(np.float32)\n",
    "X = (X - 128) / 255  # center values between -0.5 and 0.5\n",
    "y = cifar4['labels']\n",
    "\n",
    "print(X.shape)\n",
    "print(y.shape)"
   ]
  },
  {
   "cell_type": "code",
   "execution_count": 3,
   "metadata": {},
   "outputs": [
    {
     "name": "stdout",
     "output_type": "stream",
     "text": [
      "(3200, 32, 32, 3)\n",
      "(800, 32, 32, 3)\n",
      "(1000, 32, 32, 3)\n"
     ]
    }
   ],
   "source": [
    "# split to train, validation, test\n",
    "\n",
    "# split data\n",
    "from sklearn.model_selection import train_test_split\n",
    "\n",
    "X_tr, X_te, y_tr, y_te = train_test_split(\n",
    "        X.reshape(-1, 32, 32, 3),\n",
    "        y, stratify=y,\n",
    "        test_size=1000, random_state=0\n",
    "        )\n",
    "\n",
    "X_tr, X_val, y_tr, y_val = train_test_split(\n",
    "        X_tr,\n",
    "        y_tr, stratify=y_tr,\n",
    "        test_size=800, random_state=0\n",
    "        )\n"
   ]
  },
  {
   "cell_type": "code",
   "execution_count": 4,
   "metadata": {
    "collapsed": true
   },
   "outputs": [],
   "source": [
    "# Batch generator\n",
    "def get_batches(X, y, batch_size):\n",
    "    # Shuffle indices\n",
    "    shuffled_idx = np.arange(len(y))\n",
    "    np.random.shuffle(shuffled_idx)\n",
    "    \n",
    "    for i in range(0, len(y), batch_size):\n",
    "        batch_idx = shuffled_idx[i: i+batch_size]\n",
    "        yield X[batch_idx], y[batch_idx]"
   ]
  },
  {
   "cell_type": "markdown",
   "metadata": {},
   "source": [
    "## Define Network: \n",
    "### - convolutional layer: 64 filters,  5x5 kernels, 2x2 stride, same padding, ReLU\n",
    "### - max pooling: 2x2 pool size, 2x2 stride, same padding\n",
    "### - convolutional layer: 64 filters,  3x3 kernels, 1x1 stride, same padding, ReLU\n",
    "### - max pooling: 2x2 pool size, 2x2 stride, same padding\n",
    "### - flatten output of maxpool (1024 units) and apply dropout (0.5), fully connected with a 256 unit layer\n",
    "### - 256 unit layer with dropout (0.5) and ReLU, connected to output layer\n",
    "### - Output layer: 4 units with softmax regression"
   ]
  },
  {
   "cell_type": "code",
   "execution_count": 5,
   "metadata": {},
   "outputs": [
    {
     "name": "stdout",
     "output_type": "stream",
     "text": [
      "(?, 16, 16, 64)\n",
      "(?, 8, 8, 64)\n",
      "(?, 8, 8, 64)\n",
      "(?, 4, 4, 64)\n"
     ]
    }
   ],
   "source": [
    "# DEFINE GRAPH\n",
    "    \n",
    "graph = tf.Graph()\n",
    "\n",
    "with graph.as_default():\n",
    "    X = tf.placeholder(dtype=tf.float32, shape=[None, 32, 32, 3])\n",
    "    y = tf.placeholder(dtype=tf.int32, shape=[None])\n",
    "    \n",
    "    # convolutional layer\n",
    "    conv = tf.layers.conv2d(\n",
    "            X,\n",
    "            filters=64,\n",
    "            kernel_size=(5, 5),\n",
    "            strides=(2, 2),\n",
    "            padding='SAME',\n",
    "            activation=tf.nn.relu,\n",
    "            kernel_initializer=tf.truncated_normal_initializer(\n",
    "                    stddev=0.01, seed=0),\n",
    "            name='conv'\n",
    "            )\n",
    "            \n",
    "    \n",
    "    # max pooling layer\n",
    "    pool = tf.layers.max_pooling2d(\n",
    "            conv, # convolution input\n",
    "            pool_size=(2, 2), # pool size: 2\n",
    "            strides=(2, 2), # Stride: 2\n",
    "            padding='SAME'\n",
    "            )\n",
    "\n",
    "    \n",
    "    # 2nd convolutional layer\n",
    "    conv2 = tf.layers.conv2d(\n",
    "            pool,\n",
    "            filters=64,\n",
    "            kernel_size=(3, 3),\n",
    "            strides=(1, 1),\n",
    "            padding='SAME',\n",
    "            activation=tf.nn.relu,\n",
    "            kernel_initializer=tf.truncated_normal_initializer(\n",
    "                    stddev=0.01, seed=0),\n",
    "            name='conv2'\n",
    "            )\n",
    "            \n",
    "    \n",
    "    # 2nd max pooling layer\n",
    "    pool2 = tf.layers.max_pooling2d(\n",
    "            conv2, # convolution input\n",
    "            pool_size=(2, 2), # pool size: 2\n",
    "            strides=(2, 2), # Stride: 2\n",
    "            padding='SAME'\n",
    "            )\n",
    "    \n",
    "print(conv.shape)\n",
    "print(pool.shape)\n",
    "print(conv2.shape)\n",
    "print(pool2.shape)"
   ]
  },
  {
   "cell_type": "code",
   "execution_count": 6,
   "metadata": {
    "collapsed": true
   },
   "outputs": [],
   "source": [
    "# flatten pool2\n",
    "with graph.as_default():\n",
    "    # automatically reshape output\n",
    "    flat_output = tf.contrib.layers.flatten(pool2)\n",
    "    \n",
    "    # apply dropout to 1st flat layer\n",
    "    training = tf.placeholder(dtype=tf.bool)\n",
    "    # dropout\n",
    "    flat_output = tf.layers.dropout(\n",
    "        flat_output, rate=0.5, seed=0, training=training)\n",
    "\n",
    "    # pass flat output to fully connected layer\n",
    "    # output layer\n",
    "    dense = tf.layers.dense(\n",
    "            flat_output, 256,\n",
    "            activation=tf.nn.relu,\n",
    "            kernel_initializer=tf.variance_scaling_initializer(scale=1, seed=0),\n",
    "            bias_initializer=tf.zeros_initializer(),\n",
    "            name='dense'\n",
    "            )\n",
    "    \n",
    "    dense = tf.layers.dropout(\n",
    "        dense, rate=0.5, seed=0, training=training)\n",
    "    \n",
    "\n",
    "    logits = tf.layers.dense(\n",
    "            dense, 4,\n",
    "            activation=None,\n",
    "            kernel_initializer=tf.variance_scaling_initializer(scale=1, seed=0),\n",
    "            bias_initializer=tf.zeros_initializer(),\n",
    "            name='output'\n",
    "            )"
   ]
  },
  {
   "cell_type": "code",
   "execution_count": 7,
   "metadata": {
    "collapsed": true
   },
   "outputs": [],
   "source": [
    "# Define loss function and training operations\n",
    "with graph.as_default():\n",
    "    mean_ce = tf.reduce_mean(\n",
    "            tf.nn.sparse_softmax_cross_entropy_with_logits(\n",
    "                    labels=y, logits=logits\n",
    "                    )\n",
    "            )\n",
    "            \n",
    "    # Adam optimizer\n",
    "    lr = tf.placeholder(dtype=tf.float32)\n",
    "    gd = tf.train.AdamOptimizer(learning_rate=lr)\n",
    "    \n",
    "    # minimize cross-entropy\n",
    "    train_op = gd.minimize(mean_ce)\n",
    "    \n",
    "    # compute predictions and accuracy\n",
    "    predictions = tf.argmax(logits, axis=1, output_type=tf.int32)\n",
    "    is_correct = tf.equal(y, predictions)\n",
    "    accuracy = tf.reduce_mean(tf.cast(is_correct, dtype=tf.float32))"
   ]
  },
  {
   "cell_type": "markdown",
   "metadata": {},
   "source": [
    "## Train network"
   ]
  },
  {
   "cell_type": "code",
   "execution_count": 8,
   "metadata": {},
   "outputs": [
    {
     "name": "stdout",
     "output_type": "stream",
     "text": [
      "Epoch 1 - valid: 0.510 train 0.500 (mean)\n",
      "Epoch 2 - valid: 0.566 train 0.719 (mean)\n",
      "Epoch 3 - valid: 0.592 train 0.656 (mean)\n",
      "Epoch 4 - valid: 0.587 train 0.562 (mean)\n",
      "Epoch 5 - valid: 0.652 train 0.625 (mean)\n",
      "Epoch 6 - valid: 0.659 train 0.656 (mean)\n",
      "Epoch 7 - valid: 0.664 train 0.781 (mean)\n",
      "Epoch 8 - valid: 0.709 train 0.656 (mean)\n",
      "Epoch 9 - valid: 0.711 train 0.594 (mean)\n",
      "Epoch 10 - valid: 0.762 train 0.719 (mean)\n",
      "Epoch 11 - valid: 0.754 train 0.656 (mean)\n",
      "Epoch 12 - valid: 0.757 train 0.719 (mean)\n",
      "Epoch 13 - valid: 0.760 train 0.812 (mean)\n",
      "Epoch 14 - valid: 0.755 train 0.719 (mean)\n",
      "Epoch 15 - valid: 0.759 train 0.781 (mean)\n",
      "Epoch 16 - valid: 0.770 train 0.781 (mean)\n",
      "Epoch 17 - valid: 0.766 train 0.938 (mean)\n",
      "Epoch 18 - valid: 0.771 train 0.719 (mean)\n",
      "Epoch 19 - valid: 0.780 train 0.875 (mean)\n",
      "Epoch 20 - valid: 0.791 train 0.906 (mean)\n",
      "Epoch 21 - valid: 0.794 train 0.844 (mean)\n",
      "Epoch 22 - valid: 0.793 train 0.750 (mean)\n",
      "Epoch 23 - valid: 0.803 train 0.781 (mean)\n",
      "Epoch 24 - valid: 0.800 train 0.906 (mean)\n",
      "Epoch 25 - valid: 0.799 train 0.781 (mean)\n",
      "Epoch 26 - valid: 0.799 train 0.781 (mean)\n",
      "Epoch 27 - valid: 0.774 train 0.781 (mean)\n",
      "Epoch 28 - valid: 0.794 train 0.750 (mean)\n",
      "Epoch 29 - valid: 0.811 train 0.938 (mean)\n",
      "Epoch 30 - valid: 0.804 train 0.875 (mean)\n",
      "Epoch 31 - valid: 0.806 train 0.875 (mean)\n",
      "Epoch 32 - valid: 0.804 train 0.906 (mean)\n",
      "Epoch 33 - valid: 0.808 train 0.812 (mean)\n",
      "Epoch 34 - valid: 0.791 train 0.844 (mean)\n",
      "Epoch 35 - valid: 0.794 train 0.906 (mean)\n",
      "Epoch 36 - valid: 0.804 train 0.875 (mean)\n",
      "Epoch 37 - valid: 0.788 train 0.969 (mean)\n",
      "Epoch 38 - valid: 0.794 train 0.906 (mean)\n",
      "Epoch 39 - valid: 0.795 train 0.844 (mean)\n",
      "Epoch 40 - valid: 0.808 train 0.906 (mean)\n",
      "Epoch 41 - valid: 0.791 train 0.906 (mean)\n",
      "Epoch 42 - valid: 0.800 train 1.000 (mean)\n",
      "Epoch 43 - valid: 0.805 train 0.875 (mean)\n",
      "Epoch 44 - valid: 0.809 train 0.875 (mean)\n",
      "Epoch 45 - valid: 0.809 train 0.969 (mean)\n",
      "Epoch 46 - valid: 0.799 train 0.906 (mean)\n",
      "Epoch 47 - valid: 0.811 train 0.969 (mean)\n",
      "Epoch 48 - valid: 0.817 train 1.000 (mean)\n",
      "Epoch 49 - valid: 0.809 train 0.906 (mean)\n",
      "Epoch 50 - valid: 0.816 train 0.906 (mean)\n",
      "Epoch 51 - valid: 0.804 train 0.906 (mean)\n",
      "Epoch 52 - valid: 0.805 train 0.969 (mean)\n",
      "Epoch 53 - valid: 0.814 train 1.000 (mean)\n",
      "Epoch 54 - valid: 0.824 train 0.906 (mean)\n",
      "Epoch 55 - valid: 0.811 train 1.000 (mean)\n",
      "Epoch 56 - valid: 0.808 train 0.938 (mean)\n",
      "Epoch 57 - valid: 0.820 train 0.875 (mean)\n",
      "Epoch 58 - valid: 0.811 train 0.875 (mean)\n",
      "Epoch 59 - valid: 0.785 train 0.875 (mean)\n",
      "Epoch 60 - valid: 0.801 train 0.906 (mean)\n",
      "Epoch 61 - valid: 0.791 train 1.000 (mean)\n",
      "Epoch 62 - valid: 0.801 train 0.875 (mean)\n",
      "Epoch 63 - valid: 0.806 train 0.938 (mean)\n",
      "Epoch 64 - valid: 0.810 train 0.969 (mean)\n",
      "Epoch 65 - valid: 0.805 train 0.906 (mean)\n",
      "Epoch 66 - valid: 0.803 train 0.906 (mean)\n",
      "Epoch 67 - valid: 0.809 train 0.938 (mean)\n",
      "Epoch 68 - valid: 0.815 train 1.000 (mean)\n",
      "Epoch 69 - valid: 0.814 train 0.969 (mean)\n",
      "Epoch 70 - valid: 0.806 train 0.969 (mean)\n",
      "Epoch 71 - valid: 0.805 train 0.906 (mean)\n",
      "Epoch 72 - valid: 0.805 train 0.906 (mean)\n",
      "Epoch 73 - valid: 0.805 train 1.000 (mean)\n",
      "Epoch 74 - valid: 0.809 train 0.906 (mean)\n",
      "Epoch 75 - valid: 0.808 train 0.938 (mean)\n",
      "Epoch 76 - valid: 0.798 train 0.938 (mean)\n",
      "Epoch 77 - valid: 0.788 train 0.906 (mean)\n",
      "Epoch 78 - valid: 0.806 train 0.938 (mean)\n",
      "Epoch 79 - valid: 0.812 train 0.906 (mean)\n",
      "Epoch 80 - valid: 0.801 train 0.938 (mean)\n",
      "Epoch 81 - valid: 0.810 train 0.969 (mean)\n",
      "Epoch 82 - valid: 0.798 train 0.969 (mean)\n",
      "Epoch 83 - valid: 0.803 train 1.000 (mean)\n",
      "Epoch 84 - valid: 0.796 train 1.000 (mean)\n",
      "Epoch 85 - valid: 0.796 train 0.906 (mean)\n",
      "Epoch 86 - valid: 0.824 train 1.000 (mean)\n",
      "Epoch 87 - valid: 0.811 train 0.906 (mean)\n",
      "Epoch 88 - valid: 0.815 train 0.906 (mean)\n",
      "Epoch 89 - valid: 0.811 train 0.875 (mean)\n",
      "Epoch 90 - valid: 0.812 train 0.938 (mean)\n",
      "Epoch 91 - valid: 0.815 train 0.938 (mean)\n",
      "Epoch 92 - valid: 0.809 train 1.000 (mean)\n",
      "Epoch 93 - valid: 0.819 train 0.969 (mean)\n",
      "Epoch 94 - valid: 0.803 train 0.969 (mean)\n",
      "Epoch 95 - valid: 0.815 train 1.000 (mean)\n",
      "Epoch 96 - valid: 0.820 train 0.906 (mean)\n",
      "Epoch 97 - valid: 0.809 train 0.969 (mean)\n",
      "Epoch 98 - valid: 0.810 train 0.969 (mean)\n",
      "Epoch 99 - valid: 0.796 train 0.938 (mean)\n",
      "Epoch 100 - valid: 0.815 train 0.969 (mean)\n"
     ]
    }
   ],
   "source": [
    "# TRAIN NETWORK\n",
    "num_epochs = 100\n",
    "learning_rate = 0.001\n",
    "num_batches = 32\n",
    "\n",
    "valid_acc_values = []\n",
    "\n",
    "with tf.Session(graph=graph) as sess:\n",
    "    # initialize variables\n",
    "    sess.run(tf.global_variables_initializer())\n",
    "    \n",
    "    # set seed\n",
    "    np.random.seed(0)\n",
    "    \n",
    "    # train several epochs\n",
    "    for epoch in range(num_epochs):\n",
    "        batch_acc = []\n",
    "        \n",
    "        for X_batch, y_batch in get_batches(X_tr, y_tr, num_batches):\n",
    "            _, acc_value = sess.run([train_op, accuracy], feed_dict={\n",
    "                    X: X_batch,\n",
    "                    y: y_batch,\n",
    "                    lr: learning_rate,\n",
    "                    training: True\n",
    "                    })\n",
    "    \n",
    "        batch_acc.append(acc_value)\n",
    "        \n",
    "        # evaluate validation accuracy\n",
    "        valid_acc = sess.run(accuracy, feed_dict={\n",
    "                X: X_val,\n",
    "                y: y_val,\n",
    "                training: False\n",
    "                })\n",
    "        valid_acc_values.append(valid_acc)\n",
    "    \n",
    "        # print progress\n",
    "        print('Epoch {} - valid: {:.3f} train {:.3f} (mean)'.format(\n",
    "                epoch+1, valid_acc, np.mean(batch_acc)\n",
    "                )\n",
    "            )\n",
    "    \n",
    "    # evaluate test accuracy\n",
    "    test_acc = sess.run(accuracy, feed_dict={\n",
    "            X: X_te,\n",
    "            y: y_te,\n",
    "            training: False\n",
    "            })"
   ]
  },
  {
   "cell_type": "code",
   "execution_count": 9,
   "metadata": {},
   "outputs": [
    {
     "data": {
      "image/png": "[encoded data removed]",
      "text/plain": [
       "<Figure size 432x288 with 1 Axes>"
      ]
     },
     "metadata": {},
     "output_type": "display_data"
    },
    {
     "name": "stdout",
     "output_type": "stream",
     "text": [
      "Test accuracy: 0.802\n"
     ]
    }
   ],
   "source": [
    "# plot validation accuracy after each epoch\n",
    "plt.plot(valid_acc_values)\n",
    "plt.title('Validation accuracy {:.3f} (mean last 3)'.format(\n",
    "        np.mean(valid_acc_values[-3:])\n",
    "        ))\n",
    "    \n",
    "plt.xlabel('epoch')\n",
    "plt.ylabel('accuracy')\n",
    "plt.show()\n",
    "\n",
    "print('Test accuracy: {:.3f}'.format(test_acc))"
   ]
  },
  {
   "cell_type": "code",
   "execution_count": null,
   "metadata": {
    "collapsed": true
   },
   "outputs": [],
   "source": []
  }
 ],
 "metadata": {
  "kernelspec": {
   "display_name": "Python [default]",
   "language": "python",
   "name": "python3"
  },
  "language_info": {
   "codemirror_mode": {
    "name": "ipython",
    "version": 3
   },
   "file_extension": ".py",
   "mimetype": "text/x-python",
   "name": "python",
   "nbconvert_exporter": "python",
   "pygments_lexer": "ipython3",
   "version": "3.6.3"
  }
 },
 "nbformat": 4,
 "nbformat_minor": 2
}
