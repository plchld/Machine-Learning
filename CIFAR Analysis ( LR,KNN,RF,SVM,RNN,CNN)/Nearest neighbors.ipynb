{
 "cells": [
  {
   "cell_type": "code",
   "execution_count": 1,
   "metadata": {
    "collapsed": true
   },
   "outputs": [],
   "source": [
    "import numpy as np\n",
    "import matplotlib.pyplot as plt\n",
    "import seaborn as sns\n",
    "import pandas as pd\n",
    "%matplotlib inline"
   ]
  },
  {
   "cell_type": "code",
   "execution_count": 2,
   "metadata": {
    "collapsed": true
   },
   "outputs": [],
   "source": [
    "#loading the file\n",
    "with np.load('cifar4-train.npz', allow_pickle=False) as npz_file:\n",
    "    cifar = dict(npz_file.items())\n",
    "    "
   ]
  },
  {
   "cell_type": "code",
   "execution_count": 3,
   "metadata": {},
   "outputs": [
    {
     "data": {
      "text/plain": [
       "dict_keys(['pixels', 'overfeat', 'labels', 'names', 'allow_pickle'])"
      ]
     },
     "execution_count": 3,
     "metadata": {},
     "output_type": "execute_result"
    }
   ],
   "source": [
    "cifar.keys()"
   ]
  },
  {
   "cell_type": "code",
   "execution_count": 4,
   "metadata": {
    "collapsed": true
   },
   "outputs": [],
   "source": [
    "# Splitting the data that I am going to use into train/test\n",
    "from sklearn.model_selection import train_test_split\n",
    "\n",
    "x_train, x_test, y_train, y_test = train_test_split(\n",
    "    cifar['overfeat'], cifar['labels'], \n",
    "    stratify = cifar['labels'], test_size = 1000, random_state = 0)\n",
    "\n",
    "# Same for the pixels to be able to query them later\n",
    "x_train_px, x_test_px, y_train, y_test = train_test_split(\n",
    "    cifar['pixels'], cifar['labels'], \n",
    "    stratify = cifar['labels'], test_size = 1000,random_state = 0)\n",
    "\n",
    "# Splitting the training set into train/validation\n",
    "x_tr, x_val, y_tr ,y_val = train_test_split(\n",
    "    x_train, y_train, stratify = y_train, test_size = 800, random_state = 0)\n",
    "#Splitting same with the pixel data\n",
    "x_tr_px, x_val_px, y_tr, y_val = train_test_split(\n",
    "    x_train_px, y_train, stratify = y_train, test_size = 800, random_state = 0)"
   ]
  },
  {
   "cell_type": "code",
   "execution_count": 12,
   "metadata": {
    "collapsed": true
   },
   "outputs": [],
   "source": [
    "# I create the pipeline with the PCA as preproccesing and KNN as classifier\n",
    "from sklearn.neighbors import KNeighborsClassifier\n",
    "from sklearn.pipeline import Pipeline\n",
    "from sklearn.decomposition import PCA\n",
    "from sklearn.model_selection import ParameterGrid\n",
    "\n",
    "pca = PCA(n_components = 392) # these are the features needed to get 95% explained variance\n",
    "\n",
    "knn = KNeighborsClassifier()\n",
    "\n",
    "pipe = Pipeline([\n",
    "                ('pca', pca), # PCA as preproccesing\n",
    "                ('knn', knn)\n",
    "                ])\n",
    "\n",
    "grid =ParameterGrid({\n",
    "    'knn__n_neighbors': np.arange(1,20), # number of neighbors\n",
    "    'knn__p': [1,2] # L1 or L2\n",
    "})\n",
    "\n",
    "val_scores = [] # empty list to append the scores\n",
    "\n",
    "# Grid search and appending the results to the dict\n",
    "for params_dict in grid:\n",
    "    \n",
    "    pipe.set_params(**params_dict)\n",
    "            \n",
    "    pipe.fit(x_tr, y_tr)\n",
    "    params_dict['validation accuracy'] = pipe.score(x_val, y_val)\n",
    "\n",
    "    val_scores.append(params_dict)"
   ]
  },
  {
   "cell_type": "code",
   "execution_count": 13,
   "metadata": {},
   "outputs": [
    {
     "data": {
      "text/html": [
       "<div>\n",
       "<style scoped>\n",
       "    .dataframe tbody tr th:only-of-type {\n",
       "        vertical-align: middle;\n",
       "    }\n",
       "\n",
       "    .dataframe tbody tr th {\n",
       "        vertical-align: top;\n",
       "    }\n",
       "\n",
       "    .dataframe thead th {\n",
       "        text-align: right;\n",
       "    }\n",
       "</style>\n",
       "<table border=\"1\" class=\"dataframe\">\n",
       "  <thead>\n",
       "    <tr style=\"text-align: right;\">\n",
       "      <th></th>\n",
       "      <th>knn__n_neighbors</th>\n",
       "      <th>knn__p</th>\n",
       "      <th>validation accuracy</th>\n",
       "    </tr>\n",
       "  </thead>\n",
       "  <tbody>\n",
       "    <tr>\n",
       "      <th>0</th>\n",
       "      <td>19</td>\n",
       "      <td>2</td>\n",
       "      <td>0.76875</td>\n",
       "    </tr>\n",
       "    <tr>\n",
       "      <th>1</th>\n",
       "      <td>13</td>\n",
       "      <td>2</td>\n",
       "      <td>0.76875</td>\n",
       "    </tr>\n",
       "    <tr>\n",
       "      <th>2</th>\n",
       "      <td>16</td>\n",
       "      <td>2</td>\n",
       "      <td>0.76750</td>\n",
       "    </tr>\n",
       "    <tr>\n",
       "      <th>3</th>\n",
       "      <td>11</td>\n",
       "      <td>2</td>\n",
       "      <td>0.76750</td>\n",
       "    </tr>\n",
       "    <tr>\n",
       "      <th>4</th>\n",
       "      <td>14</td>\n",
       "      <td>2</td>\n",
       "      <td>0.76500</td>\n",
       "    </tr>\n",
       "    <tr>\n",
       "      <th>5</th>\n",
       "      <td>17</td>\n",
       "      <td>2</td>\n",
       "      <td>0.76250</td>\n",
       "    </tr>\n",
       "    <tr>\n",
       "      <th>6</th>\n",
       "      <td>12</td>\n",
       "      <td>2</td>\n",
       "      <td>0.76250</td>\n",
       "    </tr>\n",
       "    <tr>\n",
       "      <th>7</th>\n",
       "      <td>18</td>\n",
       "      <td>2</td>\n",
       "      <td>0.76000</td>\n",
       "    </tr>\n",
       "    <tr>\n",
       "      <th>8</th>\n",
       "      <td>9</td>\n",
       "      <td>2</td>\n",
       "      <td>0.75750</td>\n",
       "    </tr>\n",
       "    <tr>\n",
       "      <th>9</th>\n",
       "      <td>15</td>\n",
       "      <td>2</td>\n",
       "      <td>0.75750</td>\n",
       "    </tr>\n",
       "    <tr>\n",
       "      <th>10</th>\n",
       "      <td>10</td>\n",
       "      <td>2</td>\n",
       "      <td>0.75375</td>\n",
       "    </tr>\n",
       "    <tr>\n",
       "      <th>11</th>\n",
       "      <td>14</td>\n",
       "      <td>1</td>\n",
       "      <td>0.74875</td>\n",
       "    </tr>\n",
       "    <tr>\n",
       "      <th>12</th>\n",
       "      <td>17</td>\n",
       "      <td>1</td>\n",
       "      <td>0.74875</td>\n",
       "    </tr>\n",
       "    <tr>\n",
       "      <th>13</th>\n",
       "      <td>13</td>\n",
       "      <td>1</td>\n",
       "      <td>0.74500</td>\n",
       "    </tr>\n",
       "    <tr>\n",
       "      <th>14</th>\n",
       "      <td>8</td>\n",
       "      <td>2</td>\n",
       "      <td>0.74375</td>\n",
       "    </tr>\n",
       "    <tr>\n",
       "      <th>15</th>\n",
       "      <td>11</td>\n",
       "      <td>1</td>\n",
       "      <td>0.74250</td>\n",
       "    </tr>\n",
       "    <tr>\n",
       "      <th>16</th>\n",
       "      <td>16</td>\n",
       "      <td>1</td>\n",
       "      <td>0.73875</td>\n",
       "    </tr>\n",
       "    <tr>\n",
       "      <th>17</th>\n",
       "      <td>7</td>\n",
       "      <td>2</td>\n",
       "      <td>0.73750</td>\n",
       "    </tr>\n",
       "    <tr>\n",
       "      <th>18</th>\n",
       "      <td>19</td>\n",
       "      <td>1</td>\n",
       "      <td>0.73625</td>\n",
       "    </tr>\n",
       "    <tr>\n",
       "      <th>19</th>\n",
       "      <td>12</td>\n",
       "      <td>1</td>\n",
       "      <td>0.73625</td>\n",
       "    </tr>\n",
       "    <tr>\n",
       "      <th>20</th>\n",
       "      <td>15</td>\n",
       "      <td>1</td>\n",
       "      <td>0.73500</td>\n",
       "    </tr>\n",
       "    <tr>\n",
       "      <th>21</th>\n",
       "      <td>7</td>\n",
       "      <td>1</td>\n",
       "      <td>0.73250</td>\n",
       "    </tr>\n",
       "    <tr>\n",
       "      <th>22</th>\n",
       "      <td>18</td>\n",
       "      <td>1</td>\n",
       "      <td>0.73125</td>\n",
       "    </tr>\n",
       "    <tr>\n",
       "      <th>23</th>\n",
       "      <td>10</td>\n",
       "      <td>1</td>\n",
       "      <td>0.73000</td>\n",
       "    </tr>\n",
       "    <tr>\n",
       "      <th>24</th>\n",
       "      <td>9</td>\n",
       "      <td>1</td>\n",
       "      <td>0.72750</td>\n",
       "    </tr>\n",
       "    <tr>\n",
       "      <th>25</th>\n",
       "      <td>5</td>\n",
       "      <td>2</td>\n",
       "      <td>0.72750</td>\n",
       "    </tr>\n",
       "    <tr>\n",
       "      <th>26</th>\n",
       "      <td>6</td>\n",
       "      <td>2</td>\n",
       "      <td>0.72250</td>\n",
       "    </tr>\n",
       "    <tr>\n",
       "      <th>27</th>\n",
       "      <td>8</td>\n",
       "      <td>1</td>\n",
       "      <td>0.72000</td>\n",
       "    </tr>\n",
       "    <tr>\n",
       "      <th>28</th>\n",
       "      <td>3</td>\n",
       "      <td>2</td>\n",
       "      <td>0.71875</td>\n",
       "    </tr>\n",
       "    <tr>\n",
       "      <th>29</th>\n",
       "      <td>6</td>\n",
       "      <td>1</td>\n",
       "      <td>0.71375</td>\n",
       "    </tr>\n",
       "    <tr>\n",
       "      <th>30</th>\n",
       "      <td>5</td>\n",
       "      <td>1</td>\n",
       "      <td>0.70875</td>\n",
       "    </tr>\n",
       "    <tr>\n",
       "      <th>31</th>\n",
       "      <td>4</td>\n",
       "      <td>2</td>\n",
       "      <td>0.70375</td>\n",
       "    </tr>\n",
       "    <tr>\n",
       "      <th>32</th>\n",
       "      <td>3</td>\n",
       "      <td>1</td>\n",
       "      <td>0.68375</td>\n",
       "    </tr>\n",
       "    <tr>\n",
       "      <th>33</th>\n",
       "      <td>1</td>\n",
       "      <td>2</td>\n",
       "      <td>0.67750</td>\n",
       "    </tr>\n",
       "    <tr>\n",
       "      <th>34</th>\n",
       "      <td>4</td>\n",
       "      <td>1</td>\n",
       "      <td>0.67500</td>\n",
       "    </tr>\n",
       "    <tr>\n",
       "      <th>35</th>\n",
       "      <td>2</td>\n",
       "      <td>2</td>\n",
       "      <td>0.66375</td>\n",
       "    </tr>\n",
       "    <tr>\n",
       "      <th>36</th>\n",
       "      <td>1</td>\n",
       "      <td>1</td>\n",
       "      <td>0.65375</td>\n",
       "    </tr>\n",
       "    <tr>\n",
       "      <th>37</th>\n",
       "      <td>2</td>\n",
       "      <td>1</td>\n",
       "      <td>0.62375</td>\n",
       "    </tr>\n",
       "  </tbody>\n",
       "</table>\n",
       "</div>"
      ],
      "text/plain": [
       "    knn__n_neighbors  knn__p  validation accuracy\n",
       "0                 19       2              0.76875\n",
       "1                 13       2              0.76875\n",
       "2                 16       2              0.76750\n",
       "3                 11       2              0.76750\n",
       "4                 14       2              0.76500\n",
       "5                 17       2              0.76250\n",
       "6                 12       2              0.76250\n",
       "7                 18       2              0.76000\n",
       "8                  9       2              0.75750\n",
       "9                 15       2              0.75750\n",
       "10                10       2              0.75375\n",
       "11                14       1              0.74875\n",
       "12                17       1              0.74875\n",
       "13                13       1              0.74500\n",
       "14                 8       2              0.74375\n",
       "15                11       1              0.74250\n",
       "16                16       1              0.73875\n",
       "17                 7       2              0.73750\n",
       "18                19       1              0.73625\n",
       "19                12       1              0.73625\n",
       "20                15       1              0.73500\n",
       "21                 7       1              0.73250\n",
       "22                18       1              0.73125\n",
       "23                10       1              0.73000\n",
       "24                 9       1              0.72750\n",
       "25                 5       2              0.72750\n",
       "26                 6       2              0.72250\n",
       "27                 8       1              0.72000\n",
       "28                 3       2              0.71875\n",
       "29                 6       1              0.71375\n",
       "30                 5       1              0.70875\n",
       "31                 4       2              0.70375\n",
       "32                 3       1              0.68375\n",
       "33                 1       2              0.67750\n",
       "34                 4       1              0.67500\n",
       "35                 2       2              0.66375\n",
       "36                 1       1              0.65375\n",
       "37                 2       1              0.62375"
      ]
     },
     "execution_count": 13,
     "metadata": {},
     "output_type": "execute_result"
    }
   ],
   "source": [
    "# Putting the results in a dataframe\n",
    "#reseting to index for easier query afterwards\n",
    "scores_df = pd.DataFrame(val_scores)\n",
    "scores_df = scores_df.sort_values(by='validation accuracy',ascending = False)\n",
    "scores_df = scores_df.reset_index(drop = True)\n",
    "scores_df"
   ]
  },
  {
   "cell_type": "code",
   "execution_count": 14,
   "metadata": {},
   "outputs": [
    {
     "name": "stdout",
     "output_type": "stream",
     "text": [
      "Top accuracy on validation set:0.7688 with k= 19 and distance metric: 2\n"
     ]
    }
   ],
   "source": [
    "# best parameters\n",
    "best_k = scores_df.iloc[0, 0]\n",
    "best_p = scores_df.iloc[0, 1]\n",
    "\n",
    "#printing the best model\n",
    "print('Top accuracy on validation set:{:.4f} with k= {} and distance metric: {}'\\\n",
    "      .format(scores_df.iloc[0, 2], best_k, best_p))"
   ]
  },
  {
   "cell_type": "code",
   "execution_count": 15,
   "metadata": {
    "scrolled": true
   },
   "outputs": [
    {
     "name": "stdout",
     "output_type": "stream",
     "text": [
      "k-NN accuracy (test set): 0.7810\n"
     ]
    }
   ],
   "source": [
    "from sklearn.pipeline import Pipeline\n",
    "#using the best parameters on the entire data and fiting it to test set\n",
    "knn = KNeighborsClassifier(\n",
    "    n_neighbors=best_k,\n",
    "    p=best_p  \n",
    "    )\n",
    "\n",
    "# Create the pipeline and fit it to training data\n",
    "pipe = Pipeline([\n",
    "        ('pca', pca),\n",
    "        ('knn', knn)\n",
    "        ])\n",
    "\n",
    "pipe.fit(x_train, y_train)\n",
    "test_acc = pipe.score(x_test, y_test)\n",
    "# lower accuracy than the validation set but not very big to be unreasonable\n",
    "print('k-NN accuracy (test set): {:.4f}'.format(test_acc))"
   ]
  },
  {
   "cell_type": "code",
   "execution_count": 16,
   "metadata": {},
   "outputs": [
    {
     "data": {
      "text/plain": [
       "<matplotlib.image.AxesImage at 0x1965dd6dda0>"
      ]
     },
     "execution_count": 16,
     "metadata": {},
     "output_type": "execute_result"
    },
    {
     "data": {
      "image/png": "[encoded data removed]",
      "text/plain": [
       "<Figure size 432x288 with 1 Axes>"
      ]
     },
     "metadata": {},
     "output_type": "display_data"
    }
   ],
   "source": [
    "# doing pca transformation in one of the test images\n",
    "# plotting it \n",
    "x_im = pca.transform(x_test[5].reshape(1,-1))\n",
    "plt.imshow(x_test_px[5].reshape(32,32,3))"
   ]
  },
  {
   "cell_type": "code",
   "execution_count": null,
   "metadata": {
    "collapsed": true
   },
   "outputs": [],
   "source": [
    "x_te_px['pixels']"
   ]
  },
  {
   "cell_type": "code",
   "execution_count": 18,
   "metadata": {},
   "outputs": [
    {
     "data": {
      "image/png": "[encoded data removed]",
      "text/plain": [
       "<Figure size 720x360 with 10 Axes>"
      ]
     },
     "metadata": {},
     "output_type": "display_data"
    }
   ],
   "source": [
    "n_nei = knn.kneighbors(x_im, 10) # using the KNN from before i find the 10 closest neighbours\n",
    "distances = n_nei[0][0]\n",
    "indices = n_nei[1][0]\n",
    "# and I plot them with their distances as titles\n",
    "figs,axes = plt.subplots(nrows = 2, ncols = 5, figsize=(10,5)) \n",
    "\n",
    "for i, axis in enumerate(axes.flatten()):\n",
    "    idx = indices[i]\n",
    "    img_r = x_train_px[idx].reshape(32,32,3)\n",
    "    axis.imshow(img_r)\n",
    "    axis.set_title(distances[i])\n",
    "\n",
    "plt.tight_layout()\n",
    "plt.show()  "
   ]
  },
  {
   "cell_type": "code",
   "execution_count": null,
   "metadata": {
    "collapsed": true
   },
   "outputs": [],
   "source": []
  },
  {
   "cell_type": "code",
   "execution_count": null,
   "metadata": {
    "collapsed": true
   },
   "outputs": [],
   "source": []
  }
 ],
 "metadata": {
  "kernelspec": {
   "display_name": "Python [default]",
   "language": "python",
   "name": "python3"
  },
  "language_info": {
   "codemirror_mode": {
    "name": "ipython",
    "version": 3
   },
   "file_extension": ".py",
   "mimetype": "text/x-python",
   "name": "python",
   "nbconvert_exporter": "python",
   "pygments_lexer": "ipython3",
   "version": "3.6.3"
  }
 },
 "nbformat": 4,
 "nbformat_minor": 2
}
