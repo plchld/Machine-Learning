{
 "cells": [
  {
   "cell_type": "code",
   "execution_count": 1,
   "metadata": {},
   "outputs": [
    {
     "name": "stderr",
     "output_type": "stream",
     "text": [
      "C:\\Users\\User\\Anaconda3\\lib\\site-packages\\h5py\\__init__.py:34: FutureWarning: Conversion of the second argument of issubdtype from `float` to `np.floating` is deprecated. In future, it will be treated as `np.float64 == np.dtype(float).type`.\n",
      "  from ._conv import register_converters as _register_converters\n"
     ]
    }
   ],
   "source": [
    "import pandas as pd\n",
    "import numpy as np\n",
    "import matplotlib.pyplot as plt\n",
    "import seaborn as sns\n",
    "import tensorflow as tf\n",
    "sns.set()"
   ]
  },
  {
   "cell_type": "code",
   "execution_count": 2,
   "metadata": {},
   "outputs": [
    {
     "name": "stdout",
     "output_type": "stream",
     "text": [
      "(5000, 4096)\n",
      "(5000,)\n"
     ]
    }
   ],
   "source": [
    "# Load data\n",
    "with np.load('cifar4-train.npz', allow_pickle=False) as data:\n",
    "    X = data['overfeat']\n",
    "    y = data['labels']\n",
    "    \n",
    "print(X.shape)\n",
    "print(y.shape)"
   ]
  },
  {
   "cell_type": "code",
   "execution_count": 3,
   "metadata": {},
   "outputs": [
    {
     "name": "stdout",
     "output_type": "stream",
     "text": [
      "(3200, 4096)\n",
      "(800, 4096)\n",
      "(1000, 4096)\n"
     ]
    }
   ],
   "source": [
    "# split to train, validation, test\n",
    "from sklearn.model_selection import train_test_split\n",
    "\n",
    "X_tr, X_te, y_tr, y_te = train_test_split(\n",
    "        X, y, stratify=y,\n",
    "        test_size=1000, random_state=0\n",
    "        )\n",
    "\n",
    "X_tr, X_val, y_tr, y_val = train_test_split(\n",
    "        X_tr, y_tr, stratify=y_tr,\n",
    "        test_size=800, random_state=0\n",
    "        )\n",
    "\n",
    "print(X_tr.shape)\n",
    "print(X_val.shape)\n",
    "print(X_te.shape)"
   ]
  },
  {
   "cell_type": "code",
   "execution_count": 4,
   "metadata": {
    "collapsed": true
   },
   "outputs": [],
   "source": [
    "# Batch generator\n",
    "def get_batches(X, y, batch_size):\n",
    "    # Shuffle indices\n",
    "    shuffled_idx = np.arange(len(y))\n",
    "    np.random.shuffle(shuffled_idx)\n",
    "    \n",
    "    for i in range(0, len(y), batch_size):\n",
    "        batch_idx = shuffled_idx[i: i+batch_size]\n",
    "        yield X[batch_idx], y[batch_idx]"
   ]
  },
  {
   "cell_type": "markdown",
   "metadata": {},
   "source": [
    "# Define Network"
   ]
  },
  {
   "cell_type": "code",
   "execution_count": 5,
   "metadata": {
    "collapsed": true
   },
   "outputs": [],
   "source": [
    "# I set my graph\n",
    "graph = tf.Graph()\n",
    "\n",
    "with graph.as_default():\n",
    "    # create placeholders\n",
    "    X = tf.placeholder(dtype=tf.float32, shape=[None, 4096])\n",
    "    y = tf.placeholder(dtype=tf.int32, shape=[None])\n",
    "    \n",
    "    # create training placeholder for dropout\n",
    "    training = tf.placeholder(dtype=tf.bool)\n",
    "    \n",
    "    # apply dropout to input layer\n",
    "    X_drop = tf.layers.dropout(\n",
    "        X, rate=0.5, seed=0, training=training)\n",
    "    \n",
    "    # hidden layer with 64 units\n",
    "    hidden = tf.layers.dense(\n",
    "        X_drop, 64, activation=tf.nn.relu,\n",
    "        kernel_initializer=tf.variance_scaling_initializer(scale=2, seed=0),\n",
    "        bias_initializer=tf.zeros_initializer(),\n",
    "        name='hidden')\n",
    "    \n",
    "    # apply dropout to hidden layer\n",
    "    hidden = tf.layers.dropout(\n",
    "        hidden, rate=0.5, seed=0, training=training)\n",
    "    \n",
    "    # 4 logits\n",
    "    logits = tf.layers.dense(\n",
    "        hidden, 4, activation=None,\n",
    "        kernel_initializer=tf.variance_scaling_initializer(scale=1, seed=0),\n",
    "        bias_initializer=tf.zeros_initializer(),\n",
    "        name='output')"
   ]
  },
  {
   "cell_type": "code",
   "execution_count": 6,
   "metadata": {
    "collapsed": true
   },
   "outputs": [],
   "source": [
    "# Define loss function and training operations\n",
    "with graph.as_default():\n",
    "    \n",
    "    with tf.variable_scope('hidden', reuse=True):\n",
    "        W1 = tf.get_variable('kernel') # weights of hidden layer\n",
    "        \n",
    "    with tf.variable_scope('output', reuse=True):\n",
    "        W2 = tf.get_variable('kernel') # weights of output layer\n",
    "    \n",
    "    # loss: mean_cross_entropy\n",
    "    mean_ce = tf.reduce_mean(\n",
    "            tf.nn.sparse_softmax_cross_entropy_with_logits(\n",
    "                    labels=y, logits=logits\n",
    "                    )\n",
    "            )\n",
    "    \n",
    "    # L2 norm of weights\n",
    "    L2_term_W1 = tf.nn.l2_loss(W1)\n",
    "    L2_term_W2 = tf.nn.l2_loss(W2)\n",
    "    \n",
    "    # alpha parameter\n",
    "    alpha = tf.placeholder(dtype=tf.float32)\n",
    "    \n",
    "    # regularized cross-entropy\n",
    "    loss = mean_ce + alpha * (L2_term_W1 + L2_term_W2)\n",
    "    \n",
    "    # Adam optimizer\n",
    "    lr = tf.placeholder(dtype=tf.float32)\n",
    "    gd = tf.train.GradientDescentOptimizer(learning_rate=lr)\n",
    "    \n",
    "    # minimize cross-entropy with regularization\n",
    "    train_op = gd.minimize(loss)\n",
    "    \n",
    "    # compute predictions and accuracy\n",
    "    predictions = tf.argmax(logits, axis=1, output_type=tf.int32)\n",
    "    is_correct = tf.equal(y, predictions)\n",
    "    accuracy = tf.reduce_mean(tf.cast(is_correct, dtype=tf.float32))"
   ]
  },
  {
   "cell_type": "markdown",
   "metadata": {},
   "source": [
    "# Train network"
   ]
  },
  {
   "cell_type": "code",
   "execution_count": 7,
   "metadata": {},
   "outputs": [
    {
     "name": "stdout",
     "output_type": "stream",
     "text": [
      "Epoch 1 - valid: 0.529 train 0.406 (mean)\n",
      "Epoch 11 - valid: 0.752 train 0.562 (mean)\n",
      "Epoch 21 - valid: 0.784 train 0.688 (mean)\n",
      "Epoch 31 - valid: 0.808 train 0.562 (mean)\n",
      "Epoch 41 - valid: 0.806 train 0.562 (mean)\n",
      "Epoch 51 - valid: 0.814 train 0.781 (mean)\n",
      "Epoch 61 - valid: 0.819 train 0.875 (mean)\n",
      "Epoch 71 - valid: 0.817 train 0.781 (mean)\n",
      "Epoch 81 - valid: 0.831 train 0.656 (mean)\n",
      "Epoch 91 - valid: 0.834 train 0.781 (mean)\n",
      "Epoch 101 - valid: 0.824 train 0.844 (mean)\n",
      "Epoch 111 - valid: 0.832 train 0.844 (mean)\n",
      "Epoch 121 - valid: 0.826 train 0.750 (mean)\n",
      "Epoch 131 - valid: 0.834 train 0.781 (mean)\n",
      "Epoch 141 - valid: 0.830 train 0.875 (mean)\n",
      "Epoch 151 - valid: 0.831 train 0.688 (mean)\n",
      "Epoch 161 - valid: 0.845 train 0.875 (mean)\n",
      "Epoch 171 - valid: 0.835 train 0.844 (mean)\n",
      "Epoch 181 - valid: 0.835 train 0.906 (mean)\n",
      "Epoch 191 - valid: 0.842 train 0.844 (mean)\n",
      "Epoch 201 - valid: 0.835 train 0.750 (mean)\n",
      "Epoch 211 - valid: 0.836 train 0.750 (mean)\n",
      "Epoch 221 - valid: 0.836 train 0.812 (mean)\n",
      "Epoch 231 - valid: 0.842 train 0.812 (mean)\n",
      "Epoch 241 - valid: 0.840 train 0.750 (mean)\n",
      "Epoch 251 - valid: 0.841 train 0.844 (mean)\n",
      "Epoch 261 - valid: 0.839 train 0.844 (mean)\n",
      "Epoch 271 - valid: 0.841 train 0.812 (mean)\n",
      "Epoch 281 - valid: 0.839 train 0.781 (mean)\n",
      "Epoch 291 - valid: 0.842 train 0.812 (mean)\n"
     ]
    }
   ],
   "source": [
    "# TRAIN NETWORK\n",
    "num_epochs = 300\n",
    "learning_rate = 0.001\n",
    "reg_term = 0.01\n",
    "num_batches = 32\n",
    "\n",
    "valid_acc_values = []\n",
    "\n",
    "with tf.Session(graph=graph) as sess:\n",
    "    # initialize variables\n",
    "    sess.run(tf.global_variables_initializer())\n",
    "    \n",
    "    # set seed\n",
    "    np.random.seed(0)\n",
    "    \n",
    "    # train several epochs\n",
    "    for epoch in range(num_epochs):\n",
    "        batch_acc = []\n",
    "        \n",
    "        for X_batch, y_batch in get_batches(X_tr, y_tr, num_batches):\n",
    "            _, acc_value = sess.run([train_op, accuracy], feed_dict={\n",
    "                X: X_batch,\n",
    "                y: y_batch,\n",
    "                lr: learning_rate,\n",
    "                training: True,\n",
    "                alpha: reg_term\n",
    "                })\n",
    "    \n",
    "        batch_acc.append(acc_value)\n",
    "        \n",
    "        # evaluate validation accuracy\n",
    "        valid_acc = sess.run(accuracy, feed_dict={\n",
    "                X: X_val,\n",
    "                y: y_val,\n",
    "                training: False\n",
    "                })\n",
    "        valid_acc_values.append(valid_acc)\n",
    "    \n",
    "        # print progress every 10 epochs\n",
    "        if np.mod(epoch,10) == 0:\n",
    "            print('Epoch {} - valid: {:.3f} train {:.3f} (mean)'.format(\n",
    "                    epoch+1, valid_acc, np.mean(batch_acc)\n",
    "                    )\n",
    "                )\n",
    "    \n",
    "    # evaluate test accuracy\n",
    "    test_acc = sess.run(accuracy, feed_dict={\n",
    "            X: X_te,\n",
    "            y: y_te,\n",
    "            training: False\n",
    "            })"
   ]
  },
  {
   "cell_type": "code",
   "execution_count": 8,
   "metadata": {},
   "outputs": [
    {
     "data": {
      "image/png": "[encoded data removed]",
      "text/plain": [
       "<Figure size 432x288 with 1 Axes>"
      ]
     },
     "metadata": {},
     "output_type": "display_data"
    }
   ],
   "source": [
    "# plot validation accuracy after each epoch\n",
    "plt.plot(valid_acc_values)\n",
    "plt.title('Validation accuracy {:.3f} (mean last 10)'.format(\n",
    "        np.mean(valid_acc_values[-10:])\n",
    "        ))\n",
    "    \n",
    "plt.xlabel('epoch')\n",
    "plt.ylabel('accuracy')\n",
    "plt.show()"
   ]
  },
  {
   "cell_type": "code",
   "execution_count": 9,
   "metadata": {},
   "outputs": [
    {
     "name": "stdout",
     "output_type": "stream",
     "text": [
      "Multilayer fully-connected network accuracy  (test set): 0.8300\n"
     ]
    }
   ],
   "source": [
    "print('Multilayer fully-connected network accuracy ',\n",
    "      '(test set): {:.4f}'.format(test_acc))"
   ]
  },
  {
   "cell_type": "code",
   "execution_count": null,
   "metadata": {
    "collapsed": true
   },
   "outputs": [],
   "source": []
  },
  {
   "cell_type": "code",
   "execution_count": null,
   "metadata": {
    "collapsed": true
   },
   "outputs": [],
   "source": []
  }
 ],
 "metadata": {
  "kernelspec": {
   "display_name": "Python [default]",
   "language": "python",
   "name": "python3"
  },
  "language_info": {
   "codemirror_mode": {
    "name": "ipython",
    "version": 3
   },
   "file_extension": ".py",
   "mimetype": "text/x-python",
   "name": "python",
   "nbconvert_exporter": "python",
   "pygments_lexer": "ipython3",
   "version": "3.6.3"
  }
 },
 "nbformat": 4,
 "nbformat_minor": 2
}
